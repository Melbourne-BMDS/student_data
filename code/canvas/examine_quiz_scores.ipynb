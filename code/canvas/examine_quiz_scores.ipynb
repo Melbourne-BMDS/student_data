{
 "cells": [
  {
   "cell_type": "markdown",
   "metadata": {},
   "source": [
    "### Get Data from Canvas\n",
    "\n",
    "Canvas has a RESTful API. I'm going to use it to pull down the responses to the homework assignments.\n",
    "\n",
    "By the way, you can also use the Canvas API to access your data.\n",
    "\n",
    "The cell below contains the code I used to get the data from Canvas."
   ]
  },
  {
   "cell_type": "code",
   "execution_count": null,
   "metadata": {},
   "outputs": [],
   "source": [
    "import os\n",
    "import json\n",
    "with open(os.path.join(os.path.expanduser(\"~\"), \".canvaslms\", \"quiz_token\")) as f:\n",
    "    token = f.read()\n",
    "    \n",
    "from canvasapi import Canvas\n",
    "from bs4 import BeautifulSoup\n",
    "import unicodedata\n",
    "from collections import defaultdict\n",
    "\n",
    "API_URL = \"https://canvas.lms.unimelb.edu.au/\"\n",
    "canvas = Canvas(API_URL, token)\n",
    "bec = canvas.get_user(canvas.get_current_user().id)\n",
    "ehealth = canvas.get_course(110024)\n",
    "import pandas as pd\n",
    "import hvplot.pandas \n",
    "import holoviews as hv\n",
    "hv.extension('bokeh')\n"
   ]
  },
  {
   "cell_type": "code",
   "execution_count": null,
   "metadata": {},
   "outputs": [],
   "source": [
    "for q in ehealth.get_quizzes():\n",
    "    print(q)"
   ]
  },
  {
   "cell_type": "code",
   "execution_count": null,
   "metadata": {},
   "outputs": [],
   "source": [
    "quiz = ehealth.get_quiz(76171)"
   ]
  },
  {
   "cell_type": "code",
   "execution_count": null,
   "metadata": {},
   "outputs": [],
   "source": [
    "qdata = pd.DataFrame([{\"id\":i, \n",
    "                       \"time_spent\":s.time_spent, \n",
    "                       \"grade\":(s.kept_score/s.quiz_points_possible)} \n",
    "                          for i,s in enumerate(quiz.get_submissions())])\n",
    "qdata"
   ]
  },
  {
   "cell_type": "code",
   "execution_count": null,
   "metadata": {},
   "outputs": [],
   "source": [
    "qdata.hvplot.hist(\"time_spent\", bin_range=(0,2000), bins=50)"
   ]
  },
  {
   "cell_type": "code",
   "execution_count": null,
   "metadata": {},
   "outputs": [],
   "source": [
    "qdata.time_spent.corr(qdata.grade)"
   ]
  },
  {
   "cell_type": "code",
   "execution_count": null,
   "metadata": {},
   "outputs": [],
   "source": [
    "qdata.hvplot.scatter(x=\"time_spent\", y=\"grade\")"
   ]
  }
 ],
 "metadata": {
  "kernelspec": {
   "display_name": "Python 3",
   "language": "python",
   "name": "python3"
  },
  "language_info": {
   "codemirror_mode": {
    "name": "ipython",
    "version": 3
   },
   "file_extension": ".py",
   "mimetype": "text/x-python",
   "name": "python",
   "nbconvert_exporter": "python",
   "pygments_lexer": "ipython3",
   "version": "3.8.5"
  }
 },
 "nbformat": 4,
 "nbformat_minor": 4
}
