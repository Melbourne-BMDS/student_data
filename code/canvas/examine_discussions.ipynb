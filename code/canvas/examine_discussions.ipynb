{
 "cells": [
  {
   "cell_type": "markdown",
   "metadata": {},
   "source": [
    "# Who Are Our Rebels\n",
    "\n",
    "In this notebook I'm going to use some simple NLP to try to explore who were our favorite rebels. In the process I hope to demonstrate some of the data-wrangling challenges that go along with NLP."
   ]
  },
  {
   "cell_type": "markdown",
   "metadata": {},
   "source": [
    "### Get Data from Canvas\n",
    "\n",
    "Canvas has a RESTful API. I'm going to use it to pull down the responses to the homework assignments.\n",
    "\n",
    "By the way, you can also use the Canvas API to access your data.\n",
    "\n",
    "The cell below contains the code I used to get the data from Canvas."
   ]
  },
  {
   "cell_type": "code",
   "execution_count": null,
   "metadata": {},
   "outputs": [],
   "source": [
    "import os\n",
    "import json\n",
    "with open(os.path.join(os.path.expanduser(\"~\"), \".canvaslms\", \"quiz_token\")) as f:\n",
    "    token = f.read()\n",
    "    \n",
    "from canvasapi import Canvas\n",
    "from bs4 import BeautifulSoup\n",
    "import unicodedata\n",
    "\n",
    "API_URL = \"https://canvas.lms.unimelb.edu.au/\"\n",
    "canvas = Canvas(API_URL, token)\n",
    "bec = canvas.get_user(canvas.get_current_user().id)\n"
   ]
  },
  {
   "cell_type": "markdown",
   "metadata": {},
   "source": [
    "### List All the Courses I Can Access"
   ]
  },
  {
   "cell_type": "code",
   "execution_count": null,
   "metadata": {},
   "outputs": [],
   "source": [
    "for c in canvas.get_courses():\n",
    "    print(c)"
   ]
  },
  {
   "cell_type": "markdown",
   "metadata": {},
   "source": [
    "#### Pick one of them and List the Assignments"
   ]
  },
  {
   "cell_type": "code",
   "execution_count": null,
   "metadata": {},
   "outputs": [],
   "source": [
    "ehealth = canvas.get_course(110024)"
   ]
  },
  {
   "cell_type": "code",
   "execution_count": null,
   "metadata": {},
   "outputs": [],
   "source": [
    "for a in ehealth.get_assignments():\n",
    "    print(a.id, a.name)"
   ]
  },
  {
   "cell_type": "markdown",
   "metadata": {},
   "source": [
    "### Pick One of the Assignments"
   ]
  },
  {
   "cell_type": "code",
   "execution_count": null,
   "metadata": {},
   "outputs": [],
   "source": [
    "pex3 = ehealth.get_assignment(151403)"
   ]
  },
  {
   "cell_type": "markdown",
   "metadata": {},
   "source": [
    "### Get the responses for this assignment\n",
    "#### For yourself, you should only have one"
   ]
  },
  {
   "cell_type": "code",
   "execution_count": null,
   "metadata": {},
   "outputs": [],
   "source": [
    "pex3_responses = pex3.get_submissions()"
   ]
  },
  {
   "cell_type": "code",
   "execution_count": null,
   "metadata": {},
   "outputs": [],
   "source": [
    "for r in pex3_responses:\n",
    "    print(r)"
   ]
  },
  {
   "cell_type": "code",
   "execution_count": null,
   "metadata": {},
   "outputs": [],
   "source": [
    "dir(r)"
   ]
  },
  {
   "cell_type": "markdown",
   "metadata": {},
   "source": [
    "### Look at the last response\n",
    "\n",
    "#### Each response consists of (potentially) multiple entries"
   ]
  },
  {
   "cell_type": "code",
   "execution_count": null,
   "metadata": {},
   "outputs": [],
   "source": [
    "len(r.discussion_entries)"
   ]
  },
  {
   "cell_type": "code",
   "execution_count": null,
   "metadata": {},
   "outputs": [],
   "source": [
    "for r in pex3_responses:\n",
    "    print(len(r.discussion_entries), r.seconds_late)"
   ]
  },
  {
   "cell_type": "markdown",
   "metadata": {},
   "source": [
    "### Each entry is a dictionary"
   ]
  },
  {
   "cell_type": "code",
   "execution_count": null,
   "metadata": {},
   "outputs": [],
   "source": [
    "r.discussion_entries[0].keys()"
   ]
  },
  {
   "cell_type": "markdown",
   "metadata": {},
   "source": [
    "### This is a dicussion assignment\n",
    "\n",
    "- Typed content is in the `message`"
   ]
  },
  {
   "cell_type": "code",
   "execution_count": null,
   "metadata": {},
   "outputs": [],
   "source": [
    "tmp = [[(e[\"created_at\"], e[\"updated_at\"] for, e[\"message\"]) for r in pex3_responses for e in r.discussion_entries]"
   ]
  },
  {
   "cell_type": "code",
   "execution_count": null,
   "metadata": {},
   "outputs": [],
   "source": [
    "for t in tmp:\n",
    "    print(t[0], t[1])"
   ]
  },
  {
   "cell_type": "markdown",
   "metadata": {},
   "source": [
    "### Getting Date and Time Information\n",
    "\n",
    "Parsing dates can be tedious, so I'm using a third-party package `python-dateutil` to make it easier"
   ]
  },
  {
   "cell_type": "code",
   "execution_count": null,
   "metadata": {},
   "outputs": [],
   "source": [
    "from dateutil.parser import *"
   ]
  },
  {
   "cell_type": "code",
   "execution_count": null,
   "metadata": {},
   "outputs": [],
   "source": [
    "for t in tmp:\n",
    "    print((parse(t[1])- parse(t[0])).seconds)"
   ]
  },
  {
   "cell_type": "markdown",
   "metadata": {},
   "source": [
    "### We could look at the readability of our answers"
   ]
  },
  {
   "cell_type": "code",
   "execution_count": null,
   "metadata": {},
   "outputs": [],
   "source": [
    "import readability"
   ]
  },
  {
   "cell_type": "code",
   "execution_count": null,
   "metadata": {},
   "outputs": [],
   "source": [
    "for t in tmp:\n",
    "    print(readability.getmeasures(t[2], lang='en')['readability grades']['Kincaid'])"
   ]
  },
  {
   "cell_type": "code",
   "execution_count": null,
   "metadata": {},
   "outputs": [],
   "source": [
    "with open(\"pex3_repsonses.html\", \"w\") as f:\n",
    "    f.write(\"\"\"<html><body>\\n\"\"\")\n",
    "    f.write(\"<h1>Compare and Contrast Experiences of Angela, Katie, and Lucy</h1>\")\n",
    "    f.write(\"\"\"<h2>The Assignment</h2>\n",
    "<p>As I hope you have learned through this class, healthcare systems and practices vary widely around the world and these differences are largely due to different cultural and political decisions made in each country. This variation is in addition to the biological differences amongst patients. Earlier in this class you met Angela and Rudi and learned a little bit about their experiences with a high risk pregnancy in the USA that ended in pre-term births of twins.</p>\n",
    "<p>I recently interviewed two neighbors, one of whom recently had a baby here in Australia using the private health system while the other is nearing the end of her pregnancy and has been using the public health system. Their pregnancies have been much more uneventful than Angela's, although Covid-19 has disrupted their normal course of care. In the videos I think you will find that all three pregnancy experiences are quite different, with a substantial difference between the private and public Australian experience.&nbsp;</p>\n",
    "<p>To help me better understand these differences, I reached out to a colleague at the University of Utah, <a href=\"https://healthcare.utah.edu/fad/mddetail.php?physicianID=u0976071&amp;name=lori-m-gawron\" target=\"_blank\" rel=\"noopener\">Dr. Lori Gawron</a>, an obstetrician, and asked about standard obstetrics practice. My questions are in bold below</p>\n",
    "<p><img style=\"display: block; margin-left: auto; margin-right: auto;\" src=\"https://securembm.uuhsc.utah.edu/zeus/public/mbm-media/faculty-profile?facultyPK=u0976071\" /></p>\n",
    "<div>\n",
    "<div class=\"\">\n",
    "<ul class=\"MailOutline\">\n",
    "<li class=\"\"><strong>What maternal and fetal data are routinely collected during prenatal care? Are there data that are routinely observed during visits but not necessary recorded? </strong><span>While there are recommended aspects of prenatal care visits - the collection is variable based on the electronic health record or paper charting used. How they are collected also varies- even in EPIC [electronic health record] which has a number of prenatal flow sheet packages, not everyone uses them and often freetext notes. We routinely take vitals, weight, fetal heart rate, and fundal height, as the most reliably collected data and most evidence based. Everything else will be provider dependent as to whether or not they do it or document it, as data are less.&nbsp;</span></li>\n",
    "<li class=\"\"><strong>What maternal and infant data are routinely collected after birth? </strong><span>&nbsp;Both [inpatient and postpartum visits] may or may not use templates and inpatient is extremely variable based on delivery type and any complications. Postpartum- most people document vitals, weight, exam, postpartum depression results from screening tools, breastfeeding issues and contraception- again this may all be freetext.</span></li>\n",
    "<li class=\"\"><strong>Do you have any idea about how much variance there is in practice across developed countries?</strong> <span>The variance is completely&nbsp;related to the health system and payer mix but it's totally different country to country- England does a ton of home deliveries and with midwives, for example.</span></li>\n",
    "</ul>\n",
    "\n",
    "<p><span>After viewing Katie and Lucy's interviews, and refreshing your memory regarding Angela's video if needed, identify </span></p>\n",
    "<ol>\n",
    "<li><span>An information-related theme that seem to be common to all three experiences where an informatics solution might result in an improved patient experience.</span></li>\n",
    "<li><span>Notable or surprising differences between the three experiences. These need not be information-centric.</span></li>\n",
    "</ol>\n",
    "<p><span>Provide a short, written description of your observations in the discussion thread.&nbsp;</span></p>\n",
    "</div>\n",
    "</div>  \n",
    "<h2>The Responses</h2>\n",
    "    \"\"\")\n",
    "    for t in tmp:\n",
    "        f.write(t[1]+\"\\n\")\n",
    "        f.write(\"<hr>\\n\")\n",
    "    f.write(\"</body></html>\")"
   ]
  },
  {
   "cell_type": "code",
   "execution_count": null,
   "metadata": {},
   "outputs": [],
   "source": [
    "pex3_text = [unicodedata.normalize(\"NFKC\", BeautifulSoup(e[2]).getText()) for e in tmp]\n",
    "pex3_text"
   ]
  },
  {
   "cell_type": "markdown",
   "metadata": {},
   "source": [
    "- [Checking grammar with BERT and ULMFiT](https://towardsdatascience.com/checking-grammar-with-bert-and-ulmfit-1f59c718fe75)\n",
    "- "
   ]
  }
 ],
 "metadata": {
  "kernelspec": {
   "display_name": "Python 3",
   "language": "python",
   "name": "python3"
  },
  "language_info": {
   "codemirror_mode": {
    "name": "ipython",
    "version": 3
   },
   "file_extension": ".py",
   "mimetype": "text/x-python",
   "name": "python",
   "nbconvert_exporter": "python",
   "pygments_lexer": "ipython3",
   "version": "3.8.5"
  }
 },
 "nbformat": 4,
 "nbformat_minor": 4
}
